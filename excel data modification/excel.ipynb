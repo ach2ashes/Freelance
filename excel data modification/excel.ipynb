{
 "cells": [
  {
   "cell_type": "code",
   "execution_count": 1,
   "metadata": {},
   "outputs": [],
   "source": [
    "import pandas as pd"
   ]
  },
  {
   "cell_type": "code",
   "execution_count": 2,
   "metadata": {},
   "outputs": [],
   "source": [
    "file_path = \"./Sample_input 2.xlsx\"\n",
    "input_data = pd.read_excel(file_path, sheet_name=0)\n",
    "input_data['PRITITLE'].fillna('No Title', inplace=True)\n",
    "input_data['Length'].fillna(0, inplace=True)"
   ]
  },
  {
   "cell_type": "code",
   "execution_count": 3,
   "metadata": {},
   "outputs": [],
   "source": [
    "def calculate_indexname(indices):\n",
    "    return 1 if 'S&P 500'  in indices.values or 'S&P 400' in indices.values else 0\n",
    "def calculate_business_transactions(indices):\n",
    "    #return the number of 'Yes' in indices\n",
    "    return indices.value_counts().get('Yes', 0)\n",
    "\n",
    "def calculate_attorney_presence(titles):\n",
    "    return 1 if any('Attorney' in title for title in titles if isinstance(title, str)) else 0\n",
    "def calculate_account_presence(titles):\n",
    "    return 1 if any('Accountant' in title for title in titles if isinstance(title, str)) else 0\n",
    "def calculate_ratio(group):\n",
    "    sum_current_column = group['Directors aged 65 or above divided by board size'].sum()\n",
    "    sum_board_size = group['Board Size'].sum()\n",
    "    if sum_board_size == 0:\n",
    "        return 0\n",
    "    return sum_current_column / sum_board_size"
   ]
  },
  {
   "cell_type": "code",
   "execution_count": 7,
   "metadata": {},
   "outputs": [],
   "source": [
    "# replace all instances of 'Null' in column Length with 0\n",
    "input_data['Length'] = input_data['Length'].replace('Null', 0)\n",
    "# convert the data type of column Length to numeric.\n",
    "input_data['Length'] = pd.to_numeric(input_data['Length'], errors='coerce')"
   ]
  },
  {
   "cell_type": "code",
   "execution_count": 8,
   "metadata": {},
   "outputs": [
    {
     "name": "stdout",
     "output_type": "stream",
     "text": [
      "<class 'pandas.core.frame.DataFrame'>\n",
      "RangeIndex: 225429 entries, 0 to 225428\n",
      "Data columns (total 54 columns):\n",
      " #   Column                                                                 Non-Null Count   Dtype  \n",
      "---  ------                                                                 --------------   -----  \n",
      " 0   year                                                                   225429 non-null  int64  \n",
      " 1   Ticker                                                                 224787 non-null  object \n",
      " 2   CUSIP                                                                  225429 non-null  object \n",
      " 3   Name                                                                   225429 non-null  object \n",
      " 4   Board Size                                                             225429 non-null  int64  \n",
      " 5   Age                                                                    225171 non-null  float64\n",
      " 6   Ethnicity                                                              225429 non-null  int64  \n",
      " 7   indexname (1 if index equal to S&P 500 or less otherwise 0             225429 non-null  object \n",
      " 8   PRITITLE                                                               225429 non-null  object \n",
      " 9   Attorney (1 if any attorney in PRITITLE oterwise 0)                    0 non-null       float64\n",
      " 10  Accountant (1 if any accountant in PRITITLE oterwise 0)                0 non-null       float64\n",
      " 11  Country_of_Empl                                                        225429 non-null  int64  \n",
      " 12  Directors aged 65 or above divided by board size                       225429 non-null  int64  \n",
      " 13  Classification/Independent                                             225429 non-null  int64  \n",
      " 14  No. of independent with aged 65 or above divided by total independent  83474 non-null   float64\n",
      " 15  Outside_Public_Boards                                                  225354 non-null  float64\n",
      " 16  No. of Independent (1) having 3 or more than 3 outside public board    14966 non-null   float64\n",
      " 17  Percentage of Independent (1) having more than 3 outside public board  0 non-null       float64\n",
      " 18  DirSince                                                               225279 non-null  float64\n",
      " 19  Year_Term_Ends                                                         225307 non-null  float64\n",
      " 20  Length                                                                 225429 non-null  int64  \n",
      " 21  Independent having length 15 or greater than 15                        35752 non-null   float64\n",
      " 22  OWNLESS1                                                               225429 non-null  int64  \n",
      " 23  Num_Of_Shares                                                          225145 non-null  float64\n",
      " 24  Pcnt_Ctrl_Votingpower                                                  81984 non-null   float64\n",
      " 25  Female                                                                 225429 non-null  int64  \n",
      " 26  Nom_female member(1 if female is member)                               17971 non-null   float64\n",
      " 27  CG_female member(1 if female is member)                                17872 non-null   float64\n",
      " 28  Comp_female member(1 if female is member)                              16399 non-null   float64\n",
      " 29  Audit_female member(1 if female is member)                             17638 non-null   float64\n",
      " 30  Nom_membership                                                         86626 non-null   object \n",
      " 31  CG_membership                                                          85488 non-null   object \n",
      " 32  Comp_membership                                                        85757 non-null   object \n",
      " 33  Audit_membership                                                       88431 non-null   object \n",
      " 34  CG_total member                                                        17971 non-null   float64\n",
      " 35  Nom_total member                                                       17872 non-null   float64\n",
      " 36  Comp_total member                                                      16399 non-null   float64\n",
      " 37  Audit_total member                                                     17638 non-null   float64\n",
      " 38  Employment_CEO (if yes than 1)                                         30522 non-null   object \n",
      " 39  Employment_Chairman (if yes than 1)                                    17938 non-null   object \n",
      " 40  Employment_CFO (if yes than 1)                                         2710 non-null    object \n",
      " 41  Employment_COO (if yes than 1)                                         1961 non-null    object \n",
      " 42  Attend_LESS75_PCT                                                      225429 non-null  object \n",
      " 43  Attend_LESS75_for independent                                          1005 non-null    float64\n",
      " 44  Prof_Services_YN                                                       3657 non-null    float64\n",
      " 45  Former_employee_YN (if yes than 1)                                     5299 non-null    object \n",
      " 46  Business_Transaction                                                   3397 non-null    object \n",
      " 47  Relative_yn (if yes than 1)                                            3756 non-null    object \n",
      " 48  Interlocking (if yes than 1)                                           418 non-null     object \n",
      " 49  Charity (if yes than 1)                                                1090 non-null    object \n",
      " 50  OtherLink (if yes than 1)                                              832 non-null     object \n",
      " 51  Financial_Expert                                                       225429 non-null  int64  \n",
      " 52  SUCC_COMM (if yes than 1)                                              186811 non-null  object \n",
      " 53  NON_CEO_LEADER (if yes than 1)                                         225429 non-null  int64  \n",
      "dtypes: float64(22), int64(11), object(21)\n",
      "memory usage: 92.9+ MB\n"
     ]
    }
   ],
   "source": [
    "input_data.info()"
   ]
  },
  {
   "cell_type": "code",
   "execution_count": 9,
   "metadata": {},
   "outputs": [],
   "source": [
    "agg = {\"Board Size\":\"sum\", \"Age\":\"mean\",\"Ethnicity\":\"mean\",\"Country_of_Empl\":\"mean\",\"Classification/Independent\":\"mean\",\"Outside_Public_Boards\":\"sum\",\"Length\":\"mean\",\"Num_Of_Shares\":\"sum\",\"Pcnt_Ctrl_Votingpower\":\"sum\",\"Nom_female member(1 if female is member)\":\"sum\",\"CG_female member(1 if female is member)\":\"sum\",\"Comp_female member(1 if female is member)\":\"sum\",\"Audit_female member(1 if female is member)\":\"sum\",\"CG_female member(1 if female is member)\":\"sum\",\"Comp_female member(1 if female is member)\":\"sum\",\"Audit_female member(1 if female is member)\":\"sum\",\"Nom_female member(1 if female is member)\":\"sum\",\"Prof_Services_YN\":\"sum\",\n",
    "       \"indexname (1 if index equal to S&P 500 or less otherwise 0\":lambda x : calculate_indexname(x),\n",
    "       \"PRITITLE\" : lambda x: x.tolist(),\n",
    "      'Directors aged 65 or above divided by board size': \"sum\" ,\n",
    "      \"No. of independent with aged 65 or above divided by total independent\":\"sum\",\n",
    "      \"Classification/Independent\":\"mean\",\n",
    "      \"Classification/Independent\":\"sum\",\n",
    "      \"Audit_total member\":\"sum\",\n",
    "      'OWNLESS1':\"sum\",\n",
    "      \"Business_Transaction\":lambda x : calculate_business_transactions(x),\n",
    "      \"OtherLink (if yes than 1)\":lambda x : calculate_business_transactions(x),\n",
    "      \"Charity (if yes than 1)\":lambda x : calculate_business_transactions(x),\n",
    "      \"Interlocking (if yes than 1)\":lambda x : calculate_business_transactions(x),\n",
    "      \"Relative_yn (if yes than 1)\":lambda x : calculate_business_transactions(x),\n",
    "      'NON_CEO_LEADER (if yes than 1)':lambda x : calculate_business_transactions(x),\n",
    "      'Former_employee_YN (if yes than 1)':lambda x : calculate_business_transactions(x),\n",
    "      'Employment_Chairman (if yes than 1)':lambda x : calculate_business_transactions(x),\n",
    "      'Employment_COO (if yes than 1)':lambda x : calculate_business_transactions(x),\n",
    "      'Employment_CFO (if yes than 1)' : lambda x : calculate_business_transactions(x),\n",
    "      'Employment_CEO (if yes than 1)':lambda x : calculate_business_transactions(x),\n",
    "       'SUCC_COMM (if yes than 1)' : lambda x : calculate_business_transactions(x),\n",
    "       'Attend_LESS75_PCT': lambda x : calculate_business_transactions(x),\n",
    "       'Attend_LESS75_for independent':\"sum\",\n",
    "       \n",
    "       \"Independent having length 15 or greater than 15\":\"sum\",\n",
    "       \"Female\":\"sum\",\"Financial_Expert\":\"sum\",\n",
    "       'CG_total member' : \"sum\",\"Comp_total member\":\"sum\",\n",
    "       'Nom_total member':\"sum\",'No. of Independent (1) having 3 or more than 3 outside public board':\"sum\",}\n",
    "grouped = input_data.groupby(['Ticker', 'year','CUSIP','Name'])\n",
    "# Apply aggregations\n",
    "g = input_data.groupby(['Ticker', 'year','CUSIP','Name'])[\"Classification/Independent\"].mean()\n",
    "result = grouped.agg(agg).reset_index()\n",
    "\n"
   ]
  },
  {
   "cell_type": "code",
   "execution_count": null,
   "metadata": {},
   "outputs": [],
   "source": []
  },
  {
   "cell_type": "code",
   "execution_count": null,
   "metadata": {},
   "outputs": [],
   "source": [
    "result['Accountant'] = result['PRITITLE'].apply(calculate_account_presence) \n",
    "result['Attorney'] = result['PRITITLE'].apply(calculate_attorney_presence)\n",
    "result[\"Directors aged 65 or above divided by board size\"] = result[\"Directors aged 65 or above divided by board size\"] / result[\"Board Size\"]\n",
    "result[\"No. of independent with aged 65 or above divided by total independent\"] = result[\"No. of independent with aged 65 or above divided by total independent\"] / result[\"Classification/Independent\"]\n",
    "result[\"Female\"] = result[\"Female\"]/result[\"Board Size\"]\n",
    "result[\"Financial_Expert\"] = result[\"Financial_Expert\"]/result[\"Board Size\"]\n",
    "result['Percentage of Independent (1) having more than 3 outside public board'] = result['No. of Independent (1) having 3 or more than 3 outside public board']/result[\"Board Size\"]\n",
    "\n",
    "result['Audit_membership'] = 0\n",
    "result['CG_membership'] = 0\n",
    "result['Comp_membership'] = 0\n",
    "result[\"DirSince\"] = pd.NA\n",
    "result['Nom_membership'] = 0\n",
    "result['Year_Term_Ends'] = pd.NA\n",
    "\n",
    "\n"
   ]
  },
  {
   "cell_type": "code",
   "execution_count": null,
   "metadata": {},
   "outputs": [],
   "source": [
    "result[\"Classification/Independent\"]=list(g)\n",
    "result = result.reindex(columns = ['year', 'Ticker', 'CUSIP', 'Name', 'Board Size', 'Age', 'Ethnicity',\n",
    "       'indexname (1 if index equal to S&P 500 or less otherwise 0',\n",
    "       'PRITITLE', 'Attorney',\n",
    "       'Accountant',\n",
    "       'Country_of_Empl', 'Directors aged 65 or above divided by board size',\n",
    "       'Classification/Independent',\n",
    "       'No. of independent with aged 65 or above divided by total independent',\n",
    "       'Outside_Public_Boards',\n",
    "       'No. of Independent (1) having 3 or more than 3 outside public board',\n",
    "       'Percentage of Independent (1) having more than 3 outside public board',\n",
    "       'DirSince', 'Year_Term_Ends', 'Length',\n",
    "       'Independent having length 15 or greater than 15', 'OWNLESS1',\n",
    "       'Num_Of_Shares', 'Pcnt_Ctrl_Votingpower', 'Female',\n",
    "       'Nom_female member(1 if female is member)',\n",
    "       'CG_female member(1 if female is member)',\n",
    "       'Comp_female member(1 if female is member)',\n",
    "       'Audit_female member(1 if female is member)', 'Nom_membership',\n",
    "       'CG_membership', 'Comp_membership', 'Audit_membership',\n",
    "       'CG_total member', 'Nom_total member', 'Comp_total member',\n",
    "       'Audit_total member', 'Employment_CEO (if yes than 1)',\n",
    "       'Employment_Chairman (if yes than 1)', 'Employment_CFO (if yes than 1)',\n",
    "       'Employment_COO (if yes than 1)', 'Attend_LESS75_PCT',\n",
    "       'Attend_LESS75_for independent', 'Prof_Services_YN',\n",
    "       'Former_employee_YN (if yes than 1)', 'Business_Transaction',\n",
    "       'Relative_yn (if yes than 1)', 'Interlocking (if yes than 1)',\n",
    "       'Charity (if yes than 1)', 'OtherLink (if yes than 1)',\n",
    "       'Financial_Expert', 'SUCC_COMM (if yes than 1)',\n",
    "       'NON_CEO_LEADER (if yes than 1)'])"
   ]
  },
  {
   "cell_type": "code",
   "execution_count": null,
   "metadata": {},
   "outputs": [],
   "source": [
    "output_file = 'output_file2.xlsx'\n",
    "result.to_excel(output_file, index=False)"
   ]
  },
  {
   "cell_type": "code",
   "execution_count": null,
   "metadata": {},
   "outputs": [],
   "source": [
    "o  = pd.read_excel(\".//output_file.xlsx\", sheet_name=0)\n",
    "oo = pd.read_excel(\".//Sample_Output.xlsx\", sheet_name=0)"
   ]
  }
 ],
 "metadata": {
  "kernelspec": {
   "display_name": "base",
   "language": "python",
   "name": "python3"
  },
  "language_info": {
   "codemirror_mode": {
    "name": "ipython",
    "version": 3
   },
   "file_extension": ".py",
   "mimetype": "text/x-python",
   "name": "python",
   "nbconvert_exporter": "python",
   "pygments_lexer": "ipython3",
   "version": "3.11.5"
  }
 },
 "nbformat": 4,
 "nbformat_minor": 2
}
