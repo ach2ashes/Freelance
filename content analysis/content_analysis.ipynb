{
 "cells": [
  {
   "cell_type": "code",
   "execution_count": 1,
   "metadata": {},
   "outputs": [
    {
     "data": {
      "text/html": [
       "<div>\n",
       "<style scoped>\n",
       "    .dataframe tbody tr th:only-of-type {\n",
       "        vertical-align: middle;\n",
       "    }\n",
       "\n",
       "    .dataframe tbody tr th {\n",
       "        vertical-align: top;\n",
       "    }\n",
       "\n",
       "    .dataframe thead th {\n",
       "        text-align: right;\n",
       "    }\n",
       "</style>\n",
       "<table border=\"1\" class=\"dataframe\">\n",
       "  <thead>\n",
       "    <tr style=\"text-align: right;\">\n",
       "      <th></th>\n",
       "      <th>StartDate</th>\n",
       "      <th>Progress</th>\n",
       "      <th>Impact</th>\n",
       "    </tr>\n",
       "  </thead>\n",
       "  <tbody>\n",
       "    <tr>\n",
       "      <th>0</th>\n",
       "      <td>Start Date</td>\n",
       "      <td>Progress</td>\n",
       "      <td>Describe how the COVID-19 pandemic has impacte...</td>\n",
       "    </tr>\n",
       "    <tr>\n",
       "      <th>1</th>\n",
       "      <td>2020-05-04 23:29:03</td>\n",
       "      <td>100</td>\n",
       "      <td>I was not able to work and online classes were...</td>\n",
       "    </tr>\n",
       "    <tr>\n",
       "      <th>2</th>\n",
       "      <td>2020-05-04 23:27:48</td>\n",
       "      <td>100</td>\n",
       "      <td>COVID-19 has limited my social interactions as...</td>\n",
       "    </tr>\n",
       "    <tr>\n",
       "      <th>3</th>\n",
       "      <td>2020-05-04 23:31:01</td>\n",
       "      <td>100</td>\n",
       "      <td>I am not working right now and I feel like I a...</td>\n",
       "    </tr>\n",
       "    <tr>\n",
       "      <th>4</th>\n",
       "      <td>2020-05-04 23:27:45</td>\n",
       "      <td>100</td>\n",
       "      <td>At first the shelter in place did not bother m...</td>\n",
       "    </tr>\n",
       "  </tbody>\n",
       "</table>\n",
       "</div>"
      ],
      "text/plain": [
       "             StartDate  Progress  \\\n",
       "0           Start Date  Progress   \n",
       "1  2020-05-04 23:29:03       100   \n",
       "2  2020-05-04 23:27:48       100   \n",
       "3  2020-05-04 23:31:01       100   \n",
       "4  2020-05-04 23:27:45       100   \n",
       "\n",
       "                                              Impact  \n",
       "0  Describe how the COVID-19 pandemic has impacte...  \n",
       "1  I was not able to work and online classes were...  \n",
       "2  COVID-19 has limited my social interactions as...  \n",
       "3  I am not working right now and I feel like I a...  \n",
       "4  At first the shelter in place did not bother m...  "
      ]
     },
     "execution_count": 1,
     "metadata": {},
     "output_type": "execute_result"
    }
   ],
   "source": [
    "import pandas as pd\n",
    "\n",
    "# Load the Excel file\n",
    "file_path = 'Sample Qualitative Data-COVID Study.xlsx'\n",
    "df = pd.read_excel(file_path)\n",
    "\n",
    "# Display the first few rows of the dataframe to understand its structure\n",
    "df.head()\n"
   ]
  },
  {
   "cell_type": "code",
   "execution_count": 2,
   "metadata": {},
   "outputs": [
    {
     "data": {
      "text/html": [
       "<div>\n",
       "<style scoped>\n",
       "    .dataframe tbody tr th:only-of-type {\n",
       "        vertical-align: middle;\n",
       "    }\n",
       "\n",
       "    .dataframe tbody tr th {\n",
       "        vertical-align: top;\n",
       "    }\n",
       "\n",
       "    .dataframe thead th {\n",
       "        text-align: right;\n",
       "    }\n",
       "</style>\n",
       "<table border=\"1\" class=\"dataframe\">\n",
       "  <thead>\n",
       "    <tr style=\"text-align: right;\">\n",
       "      <th></th>\n",
       "      <th>Impact</th>\n",
       "      <th>Sentiment</th>\n",
       "    </tr>\n",
       "  </thead>\n",
       "  <tbody>\n",
       "    <tr>\n",
       "      <th>1</th>\n",
       "      <td>I was not able to work and online classes were...</td>\n",
       "      <td>Negative</td>\n",
       "    </tr>\n",
       "    <tr>\n",
       "      <th>2</th>\n",
       "      <td>COVID-19 has limited my social interactions as...</td>\n",
       "      <td>Positive</td>\n",
       "    </tr>\n",
       "    <tr>\n",
       "      <th>3</th>\n",
       "      <td>I am not working right now and I feel like I a...</td>\n",
       "      <td>Positive</td>\n",
       "    </tr>\n",
       "    <tr>\n",
       "      <th>4</th>\n",
       "      <td>At first the shelter in place did not bother m...</td>\n",
       "      <td>Positive</td>\n",
       "    </tr>\n",
       "    <tr>\n",
       "      <th>5</th>\n",
       "      <td>School stress has increased, as I am strugglin...</td>\n",
       "      <td>Negative</td>\n",
       "    </tr>\n",
       "  </tbody>\n",
       "</table>\n",
       "</div>"
      ],
      "text/plain": [
       "                                              Impact Sentiment\n",
       "1  I was not able to work and online classes were...  Negative\n",
       "2  COVID-19 has limited my social interactions as...  Positive\n",
       "3  I am not working right now and I feel like I a...  Positive\n",
       "4  At first the shelter in place did not bother m...  Positive\n",
       "5  School stress has increased, as I am strugglin...  Negative"
      ]
     },
     "execution_count": 2,
     "metadata": {},
     "output_type": "execute_result"
    }
   ],
   "source": [
    "from textblob import TextBlob\n",
    "impact_responses = df['Impact'][1:] \n",
    "# Adjusting the approach to directly handle the data within the DataFrame\n",
    "# Reinitializing the sentiment categories list to ensure it starts empty\n",
    "sentiment_categories = []\n",
    "\n",
    "# Analyze each response for sentiment and categorize it, including the header row this time\n",
    "for index, row in df.iterrows():\n",
    "    if index == 0:  # Skip analysis for the header row and assign a placeholder\n",
    "        sentiment_categories.append(\"Sentiment\")\n",
    "        continue\n",
    "\n",
    "    analysis = TextBlob(str(row['Impact']))  # Ensure the response is in string format for analysis\n",
    "    polarity = analysis.sentiment.polarity  # Get the polarity score: -1 (negative) to 1 (positive)\n",
    "\n",
    "    # Categorize the sentiment based on polarity\n",
    "    if polarity > 0:\n",
    "        sentiment = 'Positive'\n",
    "    elif polarity <0:\n",
    "        sentiment = 'Negative'\n",
    "    else:\n",
    "        sentiment = 'Neutral'  # Neutral sentiment for polarity == 0\n",
    "\n",
    "    sentiment_categories.append(sentiment)\n",
    "\n",
    "# The length of sentiment_categories list should now match the DataFrame's length\n",
    "assert len(sentiment_categories) == len(df)\n",
    "\n",
    "# Inserting the sentiment categories back into the dataframe\n",
    "df['Sentiment'] = sentiment_categories\n",
    "\n",
    "# Display the updated dataframe with sentiment categories, excluding the first row which contains the header\n",
    "df[['Impact', 'Sentiment']].iloc[1:].head()\n"
   ]
  },
  {
   "cell_type": "code",
   "execution_count": 3,
   "metadata": {},
   "outputs": [],
   "source": [
    "# Defining themes and associated keywords\n",
    "themes_keywords = {\n",
    "    \"Work\": [\"work\", \"job\", \"unemployed\", \"work from home\"],\n",
    "    \"Health\": [\"sick\", \"health\", \"hospital\", \"doctor\"],\n",
    "    \"Social Life\": [\"friends\", \"family\", \"isolated\", \"social\"],\n",
    "    \"Education\": [\"online classes\", \"school\", \"study\", \"education\"],\n",
    "    \"Mental Health\": [\"stress\", \"anxiety\", \"depressed\", \"mental health\"],\n",
    "    \"Self Change\": [\"change\", \"learn\", \"improve\", \"new\"]\n",
    "}\n",
    "\n",
    "# Initialize a dictionary to hold the theme count for each sentiment category\n",
    "theme_counts = {theme: {\"Positive\": 0,\"Negative\": 0, \"Neutral\": 0} for theme in themes_keywords}\n",
    "\n",
    "# Adjusting the identify_themes function to handle non-string responses\n",
    "def identify_themes_adjusted(response):\n",
    "    identified_themes = set()\n",
    "    # Ensure the response is treated as a string\n",
    "    response_str = str(response)\n",
    "    for theme, keywords in themes_keywords.items():\n",
    "        for keyword in keywords:\n",
    "            if keyword.lower() in response_str.lower():\n",
    "                identified_themes.add(theme)\n",
    "    if len(identified_themes) == 0:\n",
    "        identified_themes.add('Self Change')\n",
    "    return identified_themes\n",
    "\n",
    "# Re-scan each response for themes and tally the counts within sentiment categories\n",
    "# Reinitialize the theme counts to ensure it starts from zero\n",
    "theme_counts = {theme: {\"Positive\": 0,\"Negative\": 0, \"Neutral\": 0} for theme in themes_keywords}\n",
    "\n",
    "for index, row in df.iloc[1:].iterrows():  # Skip the first row which is a header\n",
    "    response = row['Impact']\n",
    "    sentiment = row['Sentiment']\n",
    "    response_themes = identify_themes_adjusted(response)\n",
    "   \n",
    "    # add a theme column to the dataframe\n",
    "    df.at[index, 'Themes'] = ', '.join(response_themes)\n",
    "\n",
    "    for theme in response_themes:\n",
    "        if sentiment in theme_counts[theme]:\n",
    "            theme_counts[theme][sentiment] += 1\n",
    "# calculate the frequency count for each theme\n",
    "theme_counts_freq = {theme: sum(counts.values()) for theme, counts in theme_counts.items()} \n"
   ]
  },
  {
   "cell_type": "code",
   "execution_count": 4,
   "metadata": {},
   "outputs": [
    {
     "data": {
      "text/plain": [
       "{'Work': {'Positive': 226, 'Negative': 115, 'Neutral': 41},\n",
       " 'Health': {'Positive': 130, 'Negative': 102, 'Neutral': 5},\n",
       " 'Social Life': {'Positive': 424, 'Negative': 196, 'Neutral': 39},\n",
       " 'Education': {'Positive': 306, 'Negative': 148, 'Neutral': 39},\n",
       " 'Mental Health': {'Positive': 194, 'Negative': 112, 'Neutral': 15},\n",
       " 'Self Change': {'Positive': 365, 'Negative': 160, 'Neutral': 107}}"
      ]
     },
     "execution_count": 4,
     "metadata": {},
     "output_type": "execute_result"
    }
   ],
   "source": [
    "theme_counts"
   ]
  },
  {
   "cell_type": "code",
   "execution_count": 5,
   "metadata": {},
   "outputs": [],
   "source": [
    "df.to_excel(\"content_analysis.xlsx\")"
   ]
  },
  {
   "cell_type": "code",
   "execution_count": 6,
   "metadata": {},
   "outputs": [],
   "source": [
    "pd.DataFrame(theme_counts_freq,index=[0]).to_excel(\"theme_counts.xlsx\")"
   ]
  },
  {
   "cell_type": "code",
   "execution_count": 7,
   "metadata": {},
   "outputs": [
    {
     "name": "stdout",
     "output_type": "stream",
     "text": [
      "<class 'pandas.core.frame.DataFrame'>\n",
      "RangeIndex: 1504 entries, 0 to 1503\n",
      "Data columns (total 5 columns):\n",
      " #   Column     Non-Null Count  Dtype \n",
      "---  ------     --------------  ----- \n",
      " 0   StartDate  1504 non-null   object\n",
      " 1   Progress   1504 non-null   object\n",
      " 2   Impact     1475 non-null   object\n",
      " 3   Sentiment  1504 non-null   object\n",
      " 4   Themes     1503 non-null   object\n",
      "dtypes: object(5)\n",
      "memory usage: 58.9+ KB\n"
     ]
    },
    {
     "ename": "",
     "evalue": "",
     "output_type": "error",
     "traceback": [
      "\u001b[1;31mThe Kernel crashed while executing code in the current cell or a previous cell. \n",
      "\u001b[1;31mPlease review the code in the cell(s) to identify a possible cause of the failure. \n",
      "\u001b[1;31mClick <a href='https://aka.ms/vscodeJupyterKernelCrash'>here</a> for more info. \n",
      "\u001b[1;31mView Jupyter <a href='command:jupyter.viewOutput'>log</a> for further details."
     ]
    }
   ],
   "source": [
    "df.info()"
   ]
  }
 ],
 "metadata": {
  "kernelspec": {
   "display_name": "base",
   "language": "python",
   "name": "python3"
  },
  "language_info": {
   "codemirror_mode": {
    "name": "ipython",
    "version": 3
   },
   "file_extension": ".py",
   "mimetype": "text/x-python",
   "name": "python",
   "nbconvert_exporter": "python",
   "pygments_lexer": "ipython3",
   "version": "3.11.5"
  }
 },
 "nbformat": 4,
 "nbformat_minor": 2
}
