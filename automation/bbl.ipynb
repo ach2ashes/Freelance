{
 "cells": [
  {
   "cell_type": "code",
   "execution_count": 3,
   "metadata": {},
   "outputs": [],
   "source": [
    "from selenium import webdriver\n",
    "from selenium.webdriver.common.by import By\n",
    "from selenium.webdriver.chrome.service import Service\n",
    "option = webdriver.ChromeOptions()\n",
    "service = Service(executable_path=\"C:\\\\Users\\\\PC2\\\\Downloads\\\\chromedriver-win64 (3)\\\\chromedriver-win64\\\\chromedriver.exe\")\n",
    "#option.add_argument(\"--headless\")\n",
    "option.add_argument(\"user-data-dir=C:\\\\Users\\\\PC2\\\\AppData\\\\Local\\\\Google\\\\Chrome\\\\User Data\")#to open a window with your default profile (aka your google acc)\n",
    "driver=webdriver.Chrome(service = service,options=option)"
   ]
  },
  {
   "cell_type": "code",
   "execution_count": 4,
   "metadata": {},
   "outputs": [
    {
     "ename": "WebDriverException",
     "evalue": "Message: disconnected: not connected to DevTools\n  (failed to check if window was closed: disconnected: not connected to DevTools)\n  (Session info: chrome=123.0.6312.123)\nStacktrace:\n\tGetHandleVerifier [0x00007FF65F757062+63090]\n\t(No symbol) [0x00007FF65F6C2CB2]\n\t(No symbol) [0x00007FF65F55EC65]\n\t(No symbol) [0x00007FF65F54C31B]\n\t(No symbol) [0x00007FF65F54BEC0]\n\t(No symbol) [0x00007FF65F560EC1]\n\t(No symbol) [0x00007FF65F5E2AE9]\n\t(No symbol) [0x00007FF65F5C6D83]\n\t(No symbol) [0x00007FF65F5983A8]\n\t(No symbol) [0x00007FF65F599441]\n\tGetHandleVerifier [0x00007FF65FB525CD+4238301]\n\tGetHandleVerifier [0x00007FF65FB8F72D+4488509]\n\tGetHandleVerifier [0x00007FF65FB87A0F+4456479]\n\tGetHandleVerifier [0x00007FF65F8305A6+953270]\n\t(No symbol) [0x00007FF65F6CE57F]\n\t(No symbol) [0x00007FF65F6C9254]\n\t(No symbol) [0x00007FF65F6C938B]\n\t(No symbol) [0x00007FF65F6B9BC4]\n\tBaseThreadInitThunk [0x00007FFAAE22257D+29]\n\tRtlUserThreadStart [0x00007FFAAFE0AA48+40]\n",
     "output_type": "error",
     "traceback": [
      "\u001b[1;31m---------------------------------------------------------------------------\u001b[0m",
      "\u001b[1;31mWebDriverException\u001b[0m                        Traceback (most recent call last)",
      "Cell \u001b[1;32mIn[4], line 9\u001b[0m\n\u001b[0;32m      8\u001b[0m l \u001b[38;5;241m=\u001b[39m driver\u001b[38;5;241m.\u001b[39mfind_element(By\u001b[38;5;241m.\u001b[39mXPATH,\u001b[38;5;124m\"\u001b[39m\u001b[38;5;124m//span[@data-qa-icon-name=\u001b[39m\u001b[38;5;124m'\u001b[39m\u001b[38;5;124mfloating-action-yes\u001b[39m\u001b[38;5;124m'\u001b[39m\u001b[38;5;124m]\u001b[39m\u001b[38;5;124m\"\u001b[39m)\n\u001b[1;32m----> 9\u001b[0m l\u001b[38;5;241m.\u001b[39mclick()\n\u001b[0;32m     10\u001b[0m time\u001b[38;5;241m.\u001b[39msleep(random\u001b[38;5;241m.\u001b[39mrandint(\u001b[38;5;241m1\u001b[39m,\u001b[38;5;241m3\u001b[39m))\n",
      "File \u001b[1;32mc:\\Users\\PC2\\anaconda3\\Lib\\site-packages\\selenium\\webdriver\\remote\\webelement.py:93\u001b[0m, in \u001b[0;36mWebElement.click\u001b[1;34m(self)\u001b[0m\n\u001b[0;32m     92\u001b[0m \u001b[38;5;250m\u001b[39m\u001b[38;5;124;03m\"\"\"Clicks the element.\"\"\"\u001b[39;00m\n\u001b[1;32m---> 93\u001b[0m \u001b[38;5;28mself\u001b[39m\u001b[38;5;241m.\u001b[39m_execute(Command\u001b[38;5;241m.\u001b[39mCLICK_ELEMENT)\n",
      "File \u001b[1;32mc:\\Users\\PC2\\anaconda3\\Lib\\site-packages\\selenium\\webdriver\\remote\\webelement.py:394\u001b[0m, in \u001b[0;36mWebElement._execute\u001b[1;34m(self, command, params)\u001b[0m\n\u001b[0;32m    393\u001b[0m params[\u001b[38;5;124m\"\u001b[39m\u001b[38;5;124mid\u001b[39m\u001b[38;5;124m\"\u001b[39m] \u001b[38;5;241m=\u001b[39m \u001b[38;5;28mself\u001b[39m\u001b[38;5;241m.\u001b[39m_id\n\u001b[1;32m--> 394\u001b[0m \u001b[38;5;28;01mreturn\u001b[39;00m \u001b[38;5;28mself\u001b[39m\u001b[38;5;241m.\u001b[39m_parent\u001b[38;5;241m.\u001b[39mexecute(command, params)\n",
      "File \u001b[1;32mc:\\Users\\PC2\\anaconda3\\Lib\\site-packages\\selenium\\webdriver\\remote\\webdriver.py:347\u001b[0m, in \u001b[0;36mWebDriver.execute\u001b[1;34m(self, driver_command, params)\u001b[0m\n\u001b[0;32m    346\u001b[0m \u001b[38;5;28;01mif\u001b[39;00m response:\n\u001b[1;32m--> 347\u001b[0m     \u001b[38;5;28mself\u001b[39m\u001b[38;5;241m.\u001b[39merror_handler\u001b[38;5;241m.\u001b[39mcheck_response(response)\n\u001b[0;32m    348\u001b[0m     response[\u001b[38;5;124m\"\u001b[39m\u001b[38;5;124mvalue\u001b[39m\u001b[38;5;124m\"\u001b[39m] \u001b[38;5;241m=\u001b[39m \u001b[38;5;28mself\u001b[39m\u001b[38;5;241m.\u001b[39m_unwrap_value(response\u001b[38;5;241m.\u001b[39mget(\u001b[38;5;124m\"\u001b[39m\u001b[38;5;124mvalue\u001b[39m\u001b[38;5;124m\"\u001b[39m, \u001b[38;5;28;01mNone\u001b[39;00m))\n",
      "File \u001b[1;32mc:\\Users\\PC2\\anaconda3\\Lib\\site-packages\\selenium\\webdriver\\remote\\errorhandler.py:229\u001b[0m, in \u001b[0;36mErrorHandler.check_response\u001b[1;34m(self, response)\u001b[0m\n\u001b[0;32m    228\u001b[0m     \u001b[38;5;28;01mraise\u001b[39;00m exception_class(message, screen, stacktrace, alert_text)  \u001b[38;5;66;03m# type: ignore[call-arg]  # mypy is not smart enough here\u001b[39;00m\n\u001b[1;32m--> 229\u001b[0m \u001b[38;5;28;01mraise\u001b[39;00m exception_class(message, screen, stacktrace)\n",
      "\u001b[1;31mWebDriverException\u001b[0m: Message: disconnected: unable to send message to renderer\n  (failed to check if window was closed: disconnected: not connected to DevTools)\n  (Session info: chrome=123.0.6312.123)\nStacktrace:\n\tGetHandleVerifier [0x00007FF65F757062+63090]\n\t(No symbol) [0x00007FF65F6C2CB2]\n\t(No symbol) [0x00007FF65F55EC65]\n\t(No symbol) [0x00007FF65F54C518]\n\t(No symbol) [0x00007FF65F54C4DC]\n\t(No symbol) [0x00007FF65F54ACCE]\n\t(No symbol) [0x00007FF65F54BA8F]\n\t(No symbol) [0x00007FF65F563A1F]\n\t(No symbol) [0x00007FF65F566159]\n\t(No symbol) [0x00007FF65F566200]\n\t(No symbol) [0x00007FF65F5A6DD5]\n\t(No symbol) [0x00007FF65F5A5DE0]\n\t(No symbol) [0x00007FF65F59A708]\n\t(No symbol) [0x00007FF65F5C6FDA]\n\t(No symbol) [0x00007FF65F59A00A]\n\t(No symbol) [0x00007FF65F5C71F0]\n\t(No symbol) [0x00007FF65F5E3412]\n\t(No symbol) [0x00007FF65F5C6D83]\n\t(No symbol) [0x00007FF65F5983A8]\n\t(No symbol) [0x00007FF65F599441]\n\tGetHandleVerifier [0x00007FF65FB525CD+4238301]\n\tGetHandleVerifier [0x00007FF65FB8F72D+4488509]\n\tGetHandleVerifier [0x00007FF65FB87A0F+4456479]\n\tGetHandleVerifier [0x00007FF65F8305A6+953270]\n\t(No symbol) [0x00007FF65F6CE57F]\n\t(No symbol) [0x00007FF65F6C9254]\n\t(No symbol) [0x00007FF65F6C938B]\n\t(No symbol) [0x00007FF65F6B9BC4]\n\tBaseThreadInitThunk [0x00007FFAAE22257D+29]\n\tRtlUserThreadStart [0x00007FFAAFE0AA48+40]\n",
      "\nDuring handling of the above exception, another exception occurred:\n",
      "\u001b[1;31mWebDriverException\u001b[0m                        Traceback (most recent call last)",
      "Cell \u001b[1;32mIn[4], line 12\u001b[0m\n\u001b[0;32m     10\u001b[0m     time\u001b[38;5;241m.\u001b[39msleep(random\u001b[38;5;241m.\u001b[39mrandint(\u001b[38;5;241m1\u001b[39m,\u001b[38;5;241m3\u001b[39m))\n\u001b[0;32m     11\u001b[0m \u001b[38;5;28;01mexcept\u001b[39;00m :\n\u001b[1;32m---> 12\u001b[0m     driver\u001b[38;5;241m.\u001b[39mrefresh()\n\u001b[0;32m     13\u001b[0m     time\u001b[38;5;241m.\u001b[39msleep(\u001b[38;5;241m100\u001b[39m)\n",
      "File \u001b[1;32mc:\\Users\\PC2\\anaconda3\\Lib\\site-packages\\selenium\\webdriver\\remote\\webdriver.py:570\u001b[0m, in \u001b[0;36mWebDriver.refresh\u001b[1;34m(self)\u001b[0m\n\u001b[0;32m    562\u001b[0m \u001b[38;5;28;01mdef\u001b[39;00m \u001b[38;5;21mrefresh\u001b[39m(\u001b[38;5;28mself\u001b[39m) \u001b[38;5;241m-\u001b[39m\u001b[38;5;241m>\u001b[39m \u001b[38;5;28;01mNone\u001b[39;00m:\n\u001b[0;32m    563\u001b[0m \u001b[38;5;250m    \u001b[39m\u001b[38;5;124;03m\"\"\"Refreshes the current page.\u001b[39;00m\n\u001b[0;32m    564\u001b[0m \n\u001b[0;32m    565\u001b[0m \u001b[38;5;124;03m    :Usage:\u001b[39;00m\n\u001b[1;32m   (...)\u001b[0m\n\u001b[0;32m    568\u001b[0m \u001b[38;5;124;03m            driver.refresh()\u001b[39;00m\n\u001b[0;32m    569\u001b[0m \u001b[38;5;124;03m    \"\"\"\u001b[39;00m\n\u001b[1;32m--> 570\u001b[0m     \u001b[38;5;28mself\u001b[39m\u001b[38;5;241m.\u001b[39mexecute(Command\u001b[38;5;241m.\u001b[39mREFRESH)\n",
      "File \u001b[1;32mc:\\Users\\PC2\\anaconda3\\Lib\\site-packages\\selenium\\webdriver\\remote\\webdriver.py:347\u001b[0m, in \u001b[0;36mWebDriver.execute\u001b[1;34m(self, driver_command, params)\u001b[0m\n\u001b[0;32m    345\u001b[0m response \u001b[38;5;241m=\u001b[39m \u001b[38;5;28mself\u001b[39m\u001b[38;5;241m.\u001b[39mcommand_executor\u001b[38;5;241m.\u001b[39mexecute(driver_command, params)\n\u001b[0;32m    346\u001b[0m \u001b[38;5;28;01mif\u001b[39;00m response:\n\u001b[1;32m--> 347\u001b[0m     \u001b[38;5;28mself\u001b[39m\u001b[38;5;241m.\u001b[39merror_handler\u001b[38;5;241m.\u001b[39mcheck_response(response)\n\u001b[0;32m    348\u001b[0m     response[\u001b[38;5;124m\"\u001b[39m\u001b[38;5;124mvalue\u001b[39m\u001b[38;5;124m\"\u001b[39m] \u001b[38;5;241m=\u001b[39m \u001b[38;5;28mself\u001b[39m\u001b[38;5;241m.\u001b[39m_unwrap_value(response\u001b[38;5;241m.\u001b[39mget(\u001b[38;5;124m\"\u001b[39m\u001b[38;5;124mvalue\u001b[39m\u001b[38;5;124m\"\u001b[39m, \u001b[38;5;28;01mNone\u001b[39;00m))\n\u001b[0;32m    349\u001b[0m     \u001b[38;5;28;01mreturn\u001b[39;00m response\n",
      "File \u001b[1;32mc:\\Users\\PC2\\anaconda3\\Lib\\site-packages\\selenium\\webdriver\\remote\\errorhandler.py:229\u001b[0m, in \u001b[0;36mErrorHandler.check_response\u001b[1;34m(self, response)\u001b[0m\n\u001b[0;32m    227\u001b[0m         alert_text \u001b[38;5;241m=\u001b[39m value[\u001b[38;5;124m\"\u001b[39m\u001b[38;5;124malert\u001b[39m\u001b[38;5;124m\"\u001b[39m]\u001b[38;5;241m.\u001b[39mget(\u001b[38;5;124m\"\u001b[39m\u001b[38;5;124mtext\u001b[39m\u001b[38;5;124m\"\u001b[39m)\n\u001b[0;32m    228\u001b[0m     \u001b[38;5;28;01mraise\u001b[39;00m exception_class(message, screen, stacktrace, alert_text)  \u001b[38;5;66;03m# type: ignore[call-arg]  # mypy is not smart enough here\u001b[39;00m\n\u001b[1;32m--> 229\u001b[0m \u001b[38;5;28;01mraise\u001b[39;00m exception_class(message, screen, stacktrace)\n",
      "\u001b[1;31mWebDriverException\u001b[0m: Message: disconnected: not connected to DevTools\n  (failed to check if window was closed: disconnected: not connected to DevTools)\n  (Session info: chrome=123.0.6312.123)\nStacktrace:\n\tGetHandleVerifier [0x00007FF65F757062+63090]\n\t(No symbol) [0x00007FF65F6C2CB2]\n\t(No symbol) [0x00007FF65F55EC65]\n\t(No symbol) [0x00007FF65F54C31B]\n\t(No symbol) [0x00007FF65F54BEC0]\n\t(No symbol) [0x00007FF65F560EC1]\n\t(No symbol) [0x00007FF65F5E2AE9]\n\t(No symbol) [0x00007FF65F5C6D83]\n\t(No symbol) [0x00007FF65F5983A8]\n\t(No symbol) [0x00007FF65F599441]\n\tGetHandleVerifier [0x00007FF65FB525CD+4238301]\n\tGetHandleVerifier [0x00007FF65FB8F72D+4488509]\n\tGetHandleVerifier [0x00007FF65FB87A0F+4456479]\n\tGetHandleVerifier [0x00007FF65F8305A6+953270]\n\t(No symbol) [0x00007FF65F6CE57F]\n\t(No symbol) [0x00007FF65F6C9254]\n\t(No symbol) [0x00007FF65F6C938B]\n\t(No symbol) [0x00007FF65F6B9BC4]\n\tBaseThreadInitThunk [0x00007FFAAE22257D+29]\n\tRtlUserThreadStart [0x00007FFAAFE0AA48+40]\n"
     ]
    }
   ],
   "source": [
    "import time\n",
    "import random\n",
    "driver.get(\"https://bumble.com/app\")\n",
    "driver.implicitly_wait(10)\n",
    "l = driver.find_element(By.XPATH,\"//span[@data-qa-icon-name='floating-action-yes']\")\n",
    "while True :\n",
    "    try :\n",
    "        l = driver.find_element(By.XPATH,\"//span[@data-qa-icon-name='floating-action-yes']\")\n",
    "        l.click()\n",
    "        time.sleep(random.randint(1,3))\n",
    "    except :\n",
    "        driver.refresh()\n",
    "        time.sleep(100)\n"
   ]
  },
  {
   "cell_type": "markdown",
   "metadata": {},
   "source": []
  }
 ],
 "metadata": {
  "kernelspec": {
   "display_name": "base",
   "language": "python",
   "name": "python3"
  },
  "language_info": {
   "codemirror_mode": {
    "name": "ipython",
    "version": 3
   },
   "file_extension": ".py",
   "mimetype": "text/x-python",
   "name": "python",
   "nbconvert_exporter": "python",
   "pygments_lexer": "ipython3",
   "version": "3.11.5"
  }
 },
 "nbformat": 4,
 "nbformat_minor": 2
}
