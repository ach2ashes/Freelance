{
 "cells": [
  {
   "cell_type": "code",
   "execution_count": 7,
   "metadata": {},
   "outputs": [],
   "source": [
    "from selenium import webdriver\n",
    "from selenium.webdriver.common.by import By\n",
    "import time\n",
    "import pandas as pd\n",
    "\n",
    "inp = pd.read_excel(\"~//Downloads//Min_wage.xlsx\")\n",
    "inp[\"Country\"] = inp[\"Country\"].str.replace(\" \",\"-\")\n",
    "countries = inp[\"Country\"].tolist()\n",
    "def is_float(s):\n",
    "    try:\n",
    "        float(s)\n",
    "        return True\n",
    "    except ValueError:\n",
    "        return False\n"
   ]
  },
  {
   "cell_type": "code",
   "execution_count": 11,
   "metadata": {},
   "outputs": [
    {
     "name": "stderr",
     "output_type": "stream",
     "text": [
      "C:\\Users\\PC2\\AppData\\Local\\Temp/ipykernel_9944/3797288609.py:2: DeprecationWarning: executable_path has been deprecated, please pass in a Service object\n",
      "  driver = webdriver.Chrome(executable_path=\"C:\\\\Users\\PC2\\\\Downloads\\\\chromedriver_win32 (4)\\\\chromedriver.exe\")\n"
     ]
    }
   ],
   "source": [
    "countries.extend['macao','hongkong','luxemburg','lativa','elsalvador']\n",
    "driver = webdriver.Chrome(executable_path=\"C:\\\\Users\\PC2\\\\Downloads\\\\chromedriver_win32 (4)\\\\chromedriver.exe\")\n",
    "\n",
    "\n",
    "# Loop through each country\n",
    "for country in countries:\n",
    "    # Click on the country link to go to the country's page\n",
    "    driver.get(f\"https://wageindicator.org/salary/minimum-wage/{country}\")\n",
    "    driver.maximize_window()\n",
    "    time.sleep(1)\n",
    "    try:\n",
    "    # Get the text for the \"ul\" element with the class name \"mw__intro\"\n",
    "        ul_element = driver.find_element(By.XPATH,\"//ul[@class='mw__intro']\")\n",
    "        ul_text = ul_element.text\n",
    "\n",
    "        ul = ul_text.split(\"\\n\")\n",
    "    except : \n",
    "        continue\n",
    "     \n",
    "    try:\n",
    "        desc  = [driver.find_element(By.XPATH,\"//div[@class='documentDescription description']\").text]\n",
    "    except:\n",
    "        desc = []\n",
    "    desc.extend(ul)\n",
    "    df = pd.DataFrame(desc)\n",
    "\n",
    "    # write the DataFrame to a CSV file\n",
    "    df.to_csv(f'{country}.csv', header=False, index=False)\n",
    "    # Find the table element for the country\n",
    "    try:\n",
    "            # Find the table element for the country\n",
    "            \n",
    "            table_element = driver.find_element(By.XPATH,\"//div[@class='table-responsive']/table[@class='mw__amounts']\")\n",
    "            table_data = [{td[0].text.split('\\n')[0]: [td[i].text if is_float(td[i].text[-1]) else '-' for i in range(1,len(td))]}  for td in [tr.find_elements(By.XPATH, \".//td\") for tr in table_element.find_elements(By.XPATH, \".//tbody/tr\")] ]\n",
    "            d = {}\n",
    "            for di in table_data:\n",
    "                d.update(di)\n",
    "\n",
    "  \n",
    "            max_length = max(len(v) if isinstance(v, (list, tuple)) else 1 for v in d.values())\n",
    "\n",
    "        # Create a new dictionary with the same length values for all keys\n",
    "            new_d = {}\n",
    "            for k, v in d.items():\n",
    "                if isinstance(v, list):\n",
    "                    if len(v) < max_length:\n",
    "                        v += [None] * (max_length - len(v))\n",
    "                    new_d[k] = v\n",
    "                elif isinstance(v, tuple):\n",
    "                    if len(v) < max_length:\n",
    "                        v += (None,) * (max_length - len(v))\n",
    "                    new_d[k] = list(v)  # Convert tuple to list\n",
    "                else:\n",
    "                    new_d[k] = [v] * max_length\n",
    "\n",
    "        # Create a DataFrame from the new dictionary\n",
    "            df = pd.DataFrame(new_d)\n",
    "            df.index = [td.text for td in table_element.find_elements(By.XPATH, \".//thead/tr//td\")[1:]] \n",
    "            df = df.transpose()\n",
    "            with open(f'{country}.csv',mode = 'a') as file:\n",
    "                df.to_csv(file)\n",
    "    \n",
    "    except:\n",
    "        continue\n",
    "    \n",
    "driver.quit()\n",
    "\n",
    "# Print the data dictionary"
   ]
  }
 ],
 "metadata": {
  "kernelspec": {
   "display_name": "base",
   "language": "python",
   "name": "python3"
  },
  "language_info": {
   "codemirror_mode": {
    "name": "ipython",
    "version": 3
   },
   "file_extension": ".py",
   "mimetype": "text/x-python",
   "name": "python",
   "nbconvert_exporter": "python",
   "pygments_lexer": "ipython3",
   "version": "3.9.7"
  },
  "orig_nbformat": 4
 },
 "nbformat": 4,
 "nbformat_minor": 2
}
