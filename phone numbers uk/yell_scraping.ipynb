{
 "cells": [
  {
   "cell_type": "code",
   "execution_count": 99,
   "metadata": {},
   "outputs": [],
   "source": [
    "from selenium import webdriver\n",
    "from selenium.webdriver.common.by import By\n",
    "import time\n",
    "from bs4 import BeautifulSoup\n",
    "import csv\n",
    "import json\n",
    "import re\n",
    "nums=[]"
   ]
  },
  {
   "cell_type": "code",
   "execution_count": 100,
   "metadata": {},
   "outputs": [
    {
     "name": "stderr",
     "output_type": "stream",
     "text": [
      "C:\\Users\\PC2\\AppData\\Local\\Temp/ipykernel_10228/2011850972.py:9: DeprecationWarning: executable_path has been deprecated, please pass in a Service object\n",
      "  driver=webdriver.Chrome(executable_path=\"C:\\\\Users\\PC2\\\\Downloads\\\\chromedriver_win32 (4)\\\\chromedriver.exe\",chrome_options=option)\n",
      "C:\\Users\\PC2\\AppData\\Local\\Temp/ipykernel_10228/2011850972.py:9: DeprecationWarning: use options instead of chrome_options\n",
      "  driver=webdriver.Chrome(executable_path=\"C:\\\\Users\\PC2\\\\Downloads\\\\chromedriver_win32 (4)\\\\chromedriver.exe\",chrome_options=option)\n"
     ]
    }
   ],
   "source": [
    "k=[\"Hairdressers\",\"Roofing+Services\",\"Window+Cleaners\",\"Beauty+Salons\",\"Driving+Schools\",\"Mot+Testing\",\"Plumbers\",\"Skip+Hire\",\"Taxis+And+Private+Hire+Vehicles\",\"Farmers\"]\n",
    "\n",
    "for w in k :\n",
    "    for i in range(1,10):\n",
    "\n",
    "        option = webdriver.ChromeOptions()\n",
    "        #option.add_argument(\"--headless\")\n",
    "        #option.add_argument(\"user-data-dir=C:\\\\Users\\\\PC2\\\\AppData\\\\Local\\\\Google\\\\Chrome\\\\User Data\")#to open a window with your default profile (aka your google acc)\n",
    "        driver=webdriver.Chrome(executable_path=\"C:\\\\Users\\PC2\\\\Downloads\\\\chromedriver_win32 (4)\\\\chromedriver.exe\",chrome_options=option)\n",
    "        driver.get(f\"https://www.yell.com/ucs/UcsSearchAction.do?keywords={w}&location=UK&pageNum={i}\")\n",
    "        driver.implicitly_wait(30)\n",
    "        time.sleep(20)\n",
    "        driver.maximize_window()\n",
    "        soup = BeautifulSoup(driver.page_source,\"lxml\")\n",
    "        numsr = soup.find_all(\"span\",attrs={\"class\":\"business--telephoneNumber\"})\n",
    "        num = [n.text for n in numsr]\n",
    "        nums.extend(num)\n",
    "        driver.quit()\n"
   ]
  },
  {
   "cell_type": "code",
   "execution_count": 101,
   "metadata": {},
   "outputs": [
    {
     "data": {
      "text/plain": [
       "2807"
      ]
     },
     "execution_count": 101,
     "metadata": {},
     "output_type": "execute_result"
    }
   ],
   "source": [
    "len(nums)"
   ]
  },
  {
   "cell_type": "code",
   "execution_count": 102,
   "metadata": {},
   "outputs": [],
   "source": [
    "l = list(set(nums))"
   ]
  },
  {
   "cell_type": "code",
   "execution_count": 103,
   "metadata": {},
   "outputs": [],
   "source": [
    "import pandas as pd\n",
    "df = pd.DataFrame((l))\n",
    "df.to_csv(\".//num2.csv\",index=False,mode='a',header=False)"
   ]
  },
  {
   "cell_type": "code",
   "execution_count": 104,
   "metadata": {},
   "outputs": [
    {
     "data": {
      "text/plain": [
       "1989"
      ]
     },
     "execution_count": 104,
     "metadata": {},
     "output_type": "execute_result"
    }
   ],
   "source": [
    "len(l)"
   ]
  }
 ],
 "metadata": {
  "kernelspec": {
   "display_name": "base",
   "language": "python",
   "name": "python3"
  },
  "language_info": {
   "codemirror_mode": {
    "name": "ipython",
    "version": 3
   },
   "file_extension": ".py",
   "mimetype": "text/x-python",
   "name": "python",
   "nbconvert_exporter": "python",
   "pygments_lexer": "ipython3",
   "version": "3.9.7"
  },
  "orig_nbformat": 4
 },
 "nbformat": 4,
 "nbformat_minor": 2
}
