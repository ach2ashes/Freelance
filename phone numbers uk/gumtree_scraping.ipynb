{
 "cells": [
  {
   "cell_type": "code",
   "execution_count": 19,
   "metadata": {},
   "outputs": [],
   "source": [
    "from selenium import webdriver\n",
    "from selenium.webdriver.common.by import By\n",
    "import time\n",
    "from bs4 import BeautifulSoup\n",
    "import csv\n",
    "import json\n",
    "import re"
   ]
  },
  {
   "cell_type": "code",
   "execution_count": 20,
   "metadata": {},
   "outputs": [
    {
     "name": "stderr",
     "output_type": "stream",
     "text": [
      "C:\\Users\\PC2\\AppData\\Local\\Temp/ipykernel_18572/1081230566.py:8: DeprecationWarning: executable_path has been deprecated, please pass in a Service object\n",
      "  driver=webdriver.Chrome(executable_path=\"C:\\\\Users\\PC2\\\\Downloads\\\\chromedriver_win32 (4)\\\\chromedriver.exe\",chrome_options=option)\n",
      "C:\\Users\\PC2\\AppData\\Local\\Temp/ipykernel_18572/1081230566.py:8: DeprecationWarning: use options instead of chrome_options\n",
      "  driver=webdriver.Chrome(executable_path=\"C:\\\\Users\\PC2\\\\Downloads\\\\chromedriver_win32 (4)\\\\chromedriver.exe\",chrome_options=option)\n"
     ]
    }
   ],
   "source": [
    "\n",
    "d={}\n",
    "j=1\n",
    "while(j<100):\n",
    "\n",
    "    for i in range (j,j+3):\n",
    "        option = webdriver.ChromeOptions()\n",
    "        option.add_argument(\"user-data-dir=C:\\\\Users\\\\PC2\\\\AppData\\\\Local\\\\Google\\\\Chrome\\\\User Data\")#to open a window with your default profile (aka your google acc)\n",
    "        driver=webdriver.Chrome(executable_path=\"C:\\\\Users\\PC2\\\\Downloads\\\\chromedriver_win32 (4)\\\\chromedriver.exe\",chrome_options=option)\n",
    "        driver.get(f\"https://www.gumtree.com/search?search_location=uk&page={i}\")\n",
    "        time.sleep(5)\n",
    "        soup = BeautifulSoup(driver.page_source,\"lxml\")\n",
    "        listings = soup.find_all(\"a\", attrs = {\"class\" : \"listing-link\"})\n",
    "        links  = [a['href'] for a in listings ]\n",
    "    \n",
    "        for link in links:\n",
    "            driver.get(\"https://www.gumtree.com\"+link+\"?srn=true\")\n",
    "            time.sleep(1)\n",
    "            try : \n",
    "                num = driver.find_element(By.XPATH,\"//h2[@data-q='seller-phone-number']\").text\n",
    "                d[link] = num\n",
    "            except:\n",
    "                try:\n",
    "                    name =driver.find_element(By.XPATH,\"//h4/span[@itemprop='name']\").text\n",
    "                    regex = r\"\\d{11,}\"\n",
    "\n",
    "        # Use the re module to search for the regex in the string\n",
    "                    match = re.search(regex, name)\n",
    "                    if match:\n",
    "            # Extract the matched number\n",
    "                        eleven_digit_number = match.group()\n",
    "                        d[link]=eleven_digit_number\n",
    "                except:\n",
    "                    pass\n",
    "        driver.quit()\n",
    "    j+=3\n",
    "    time.sleep(25)\n",
    "    \n",
    "\n",
    "        \n",
    "                \n",
    "\n",
    "\n"
   ]
  },
  {
   "cell_type": "code",
   "execution_count": null,
   "metadata": {},
   "outputs": [],
   "source": [
    "with open('num.json', 'a') as outfile: \n",
    "        json.dump(d, outfile,indent=0) "
   ]
  },
  {
   "cell_type": "code",
   "execution_count": null,
   "metadata": {},
   "outputs": [],
   "source": []
  }
 ],
 "metadata": {
  "kernelspec": {
   "display_name": "base",
   "language": "python",
   "name": "python3"
  },
  "language_info": {
   "codemirror_mode": {
    "name": "ipython",
    "version": 3
   },
   "file_extension": ".py",
   "mimetype": "text/x-python",
   "name": "python",
   "nbconvert_exporter": "python",
   "pygments_lexer": "ipython3",
   "version": "3.9.7"
  },
  "orig_nbformat": 4
 },
 "nbformat": 4,
 "nbformat_minor": 2
}
