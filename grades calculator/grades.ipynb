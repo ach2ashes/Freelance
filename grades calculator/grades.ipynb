{
 "cells": [
  {
   "cell_type": "code",
   "execution_count": 1,
   "metadata": {},
   "outputs": [
    {
     "name": "stdout",
     "output_type": "stream",
     "text": [
      "ID\tName\t\tTest1\tTest2\tTest3\t\n",
      "\n",
      "91007\tAhmadSaid# \t50.0\t78.5\t73.2\t\n",
      "\n",
      "91004\tHassanKhan# \t45.5\t36.7\t88.5\t\n",
      "\n",
      "91003\tSuleimanWasim# \t72.6\t66.4\t56.7\t\n",
      "\n",
      "91002\tMajedSameer# \t60.0\t78.4\t45.6\t\n",
      "\n",
      "91006\tMuhammadAdel# \t85.5\t69.8\t44.5\t\n",
      "\n",
      "91005\tMuhsimZuheir# \t70.0\t62.1\t95.4\t\n",
      "\n",
      "91001\tMuneebAbdullatif# \t30.0\t56.5\t44.8\t\n",
      "\n"
     ]
    }
   ],
   "source": [
    "def read_data():\n",
    "    \"\"\"\n",
    "    Reads the grade information from the text file and returns it as a list of dictionaries.\n",
    "    Each dictionary corresponds to a single student's grade information.\n",
    "    \"\"\"\n",
    "    grades = []\n",
    "    with open('grades.txt', 'r') as f:\n",
    "        lines = f.readlines()\n",
    "        for line in lines:\n",
    "            line = line.strip()\n",
    "            student_data = line.split(' ')\n",
    "            student_data = [x for x in student_data if x != '']\n",
    "            student_id = student_data[0]\n",
    "            name = (student_data[1] + student_data[2] ).strip()\n",
    "            test_grades = [float(x) for x in student_data[3:]]\n",
    "            grades.append({'id': student_id[:-1], 'name': name, 'test_grades': test_grades})\n",
    "    return grades\n",
    "\n",
    "def display_all(students):\n",
    "    \"\"\"\n",
    "    Displays grade info for all students.\n",
    "    \"\"\"\n",
    "    print('ID\\tName\\t\\t',end='')\n",
    "    for i in range(len(students[0]['test_grades'])):\n",
    "                       print(f'Test{i+1}\\t',end='')\n",
    "    print('\\n')\n",
    "    for student in students:\n",
    "        print(f\"{student['id']}\\t{student['name']} \\t\",end='')\n",
    "        for i in student[\"test_grades\"]:\n",
    "               print(i,end = '\\t')\n",
    "        print('\\n')\n"
   ]
  },
  {
   "cell_type": "code",
   "execution_count": 2,
   "metadata": {},
   "outputs": [
    {
     "name": "stdout",
     "output_type": "stream",
     "text": [
      "\n",
      "ID\tName\t\tTest1\tTest2\tTest3\t\n",
      "\n",
      "91003\tSuleimanWasim# \t72.6\t66.4\t56.7\t\n",
      "\n"
     ]
    }
   ],
   "source": [
    "def display_student(students):\n",
    "    \"\"\"\n",
    "    Displays grade info for a particular student.\n",
    "    \"\"\"\n",
    "    student_id = input(\"Enter student ID: \")\n",
    "    for student in students:\n",
    "        if student['id'] == student_id:\n",
    "            print(f\"\\nID\\tName\\t\\t\", end='')\n",
    "            for i in range(len(student['test_grades'])):\n",
    "                print(f\"Test{i+1}\\t\", end='')\n",
    "            print('\\n')\n",
    "            print(f\"{student['id']}\\t{student['name']} \\t\", end='')\n",
    "            for i in student['test_grades']:\n",
    "                print(i, end='\\t')\n",
    "            print('\\n')\n",
    "            input(\"Press Enter key to continue...\")\n",
    "            return\n",
    "    print(\"Error: Invalid ID\\n\")\n",
    "    input(\"Press Enter key to continue...\")\n",
    "\n",
    "\n"
   ]
  },
  {
   "cell_type": "code",
   "execution_count": 3,
   "metadata": {},
   "outputs": [
    {
     "name": "stdout",
     "output_type": "stream",
     "text": [
      "StudentID\tStudent Name\t\tAverage\n",
      "91007\t\tAhmadSaid#\t\t67.23\n",
      "91004\t\tHassanKhan#\t\t56.90\n",
      "91003\t\tSuleimanWasim#\t\t65.23\n",
      "91002\t\tMajedSameer#\t\t61.33\n",
      "91006\t\tMuhammadAdel#\t\t66.60\n",
      "91005\t\tMuhsimZuheir#\t\t75.83\n",
      "91001\t\tMuneebAbdullatif#\t\t43.77\n"
     ]
    }
   ],
   "source": [
    "def display_averages(students):\n",
    "    \"\"\"\n",
    "    Displays quiz averages for all students.\n",
    "    \"\"\"\n",
    "    if len(students) == 0:\n",
    "        print(\"No students found.\")\n",
    "        return\n",
    "\n",
    "    print(\"StudentID\\tStudent Name\\t\\tAverage\")\n",
    "    for student in students:\n",
    "        total = sum(student['test_grades'])\n",
    "        average = total / len(student['test_grades'])\n",
    "        print(f\"{student['id']}\\t\\t{student['name']}\\t\\t{average:.2f}\")\n",
    "    \n",
    "    input(\"\\nPress Enter key to continue . . .\")\n",
    "\n"
   ]
  },
  {
   "cell_type": "code",
   "execution_count": 4,
   "metadata": {},
   "outputs": [
    {
     "name": "stdout",
     "output_type": "stream",
     "text": [
      "Error: Invalid student ID\n"
     ]
    }
   ],
   "source": [
    "def modify_grade(students):\n",
    "    \"\"\"\n",
    "    Modifies a particular test grade for a particular student.\n",
    "    \"\"\"\n",
    "    student_id = input(\"Please enter studentID: \")\n",
    "    test_number = input(\"Please enter quiz number to modify: \")\n",
    "    new_grade = input(\"Please enter new quiz grade: \")\n",
    "\n",
    "    # Check if inputs are valid\n",
    "    if not student_id.isdigit():\n",
    "        print(\"Error: Invalid student ID\")\n",
    "        return\n",
    "    if not test_number.isdigit() or int(test_number) < 1 or int(test_number) > len(students[0][\"test_grades\"]):\n",
    "        print(\"Error: Invalid test number\")\n",
    "        return\n",
    "    if not new_grade.replace(\".\", \"\", 1).isdigit() or float(new_grade) < 0 or float(new_grade) > 100:\n",
    "        print(\"Error: Invalid quiz grade\")\n",
    "        return\n",
    "\n",
    "    # Find the student with the given ID\n",
    "    found_student = None\n",
    "    for student in students:\n",
    "        if student[\"id\"] == student_id:\n",
    "            found_student = student\n",
    "            break\n",
    "\n",
    "    if found_student is None:\n",
    "        print(\"Error: Student not found\")\n",
    "        return\n",
    "       # Display before and after modification\n",
    "    print(f\"\\nBefore grade modification: {found_student['id']}    {found_student['name']}   \", end=\"\")\n",
    "    for grade in found_student[\"test_grades\"]:\n",
    "        print(f\"{grade:.1f}\\t\", end=\"\")\n",
    "    print(\"\")\n",
    "    # Modify the test grade for the found student\n",
    "    test_number = int(test_number)\n",
    "    new_grade = float(new_grade)\n",
    "    old_grade = found_student[\"test_grades\"][test_number - 1]\n",
    "    found_student[\"test_grades\"][test_number - 1] = new_grade\n",
    "\n",
    "    print(f\"After grade modification: {found_student['id']}   {found_student['name']}   \", end=\"\")\n",
    "    for grade in found_student[\"test_grades\"]:\n",
    "        print(f\"{grade:.1f}\\t\", end=\"\")\n",
    "    print(\"\")\n",
    "\n",
    "\n"
   ]
  },
  {
   "cell_type": "code",
   "execution_count": 6,
   "metadata": {},
   "outputs": [
    {
     "name": "stdout",
     "output_type": "stream",
     "text": [
      "Please enter test grades for Test#4\n",
      "\n",
      "Invalid grade. Please enter a valid grade between 0 and 100.\n",
      "Invalid grade. Please enter a valid grade between 0 and 100.\n",
      "Invalid grade. Please enter a valid grade between 0 and 100.\n",
      "Invalid grade. Please enter a valid grade between 0 and 100.\n",
      "Invalid grade. Please enter a valid grade between 0 and 100.\n",
      "Invalid grade. Please enter a valid grade between 0 and 100.\n",
      "Invalid grade. Please enter a valid grade between 0 and 100.\n",
      "Invalid grade. Please enter a valid grade between 0 and 100.\n",
      "Invalid grade. Please enter a valid grade between 0 and 100.\n",
      "Invalid grade. Please enter a valid grade between 0 and 100.\n",
      "Invalid grade. Please enter a valid grade between 0 and 100.\n",
      "Invalid grade. Please enter a valid grade between 0 and 100.\n",
      "Invalid grade. Please enter a valid grade between 0 and 100.\n",
      "\n",
      "Test grades for Test#4 added successfully!\n",
      "\n"
     ]
    }
   ],
   "source": [
    "def add_test_grades(students):\n",
    "    \"\"\"\n",
    "    Adds test grades for the next test for all students.\n",
    "    \"\"\"\n",
    "    # Determine the number of tests\n",
    "    num_tests = len(students[0][\"test_grades\"])\n",
    "    new_test_num = num_tests + 1\n",
    "\n",
    "    # Prompt the user to enter grades for the new test\n",
    "    print(f\"Please enter test grades for Test#{new_test_num}\\n\")\n",
    "    for student in students:\n",
    "        valid_grade = False\n",
    "        while not valid_grade:\n",
    "            try:\n",
    "                grade = float(input(f\"Please enter grade for student : {student['id']}\\t\"))\n",
    "                if grade < 0 or grade > 100:\n",
    "                    raise ValueError\n",
    "                valid_grade = True\n",
    "            except ValueError:\n",
    "                print(\"Invalid grade. Please enter a valid grade between 0 and 100.\")\n",
    "\n",
    "        # Add the new grade to the student's test grades\n",
    "        student[\"test_grades\"].append(grade)\n",
    "\n",
    "    print(f\"\\nTest grades for Test#{new_test_num} added successfully!\\n\")\n",
    "\n"
   ]
  },
  {
   "cell_type": "code",
   "execution_count": 7,
   "metadata": {},
   "outputs": [
    {
     "name": "stdout",
     "output_type": "stream",
     "text": [
      "Student 333 with ID 333 added successfully!\n"
     ]
    }
   ],
   "source": [
    "def add_student(students):\n",
    "    \"\"\"\n",
    "    Adds a new student to the list.\n",
    "    \"\"\"\n",
    "    id = input(\"Enter student ID: \")\n",
    "    if not id.isdigit():\n",
    "        print(\"Invalid ID\")\n",
    "        return\n",
    "    for student in students:\n",
    "        if student['id'] == int(id):\n",
    "            print(\"A student with this ID already exists.\")\n",
    "            return\n",
    "    name = input(\"Enter student name: \")\n",
    "    num_tests = len(students[0]['test_grades'])\n",
    "    test_grades = []\n",
    "    for i in range(num_tests):\n",
    "        grade = input(f\"Enter grade for test {i+1}: \")\n",
    "        if not grade.replace('.', '', 1).isdigit() or float(grade) < 0 or float(grade) > 100:\n",
    "            print(\"Invalid grade\")\n",
    "            return\n",
    "        test_grades.append(float(grade))\n",
    "    new_student = {'id': int(id), 'name': name, 'test_grades': test_grades}\n",
    "    students.append(new_student)\n",
    "    print(f\"Student {name} with ID {id} added successfully!\")\n"
   ]
  },
  {
   "cell_type": "code",
   "execution_count": 8,
   "metadata": {},
   "outputs": [
    {
     "name": "stdout",
     "output_type": "stream",
     "text": [
      "Error: Student with ID  not found.\n"
     ]
    }
   ],
   "source": [
    "def delete_student(students):\n",
    "    \"\"\"\n",
    "    Deletes a student from the list.\n",
    "    \"\"\"\n",
    "    student_id = input(\"Please enter the ID of the student you want to delete: \")\n",
    "\n",
    "    for i, student in enumerate(students):\n",
    "        if student['id'] == student_id:\n",
    "            del students[i]\n",
    "            print(f\"Student with ID {student_id} has been deleted.\")\n",
    "            return\n",
    "\n",
    "    print(f\"Error: Student with ID {student_id} not found.\")\n"
   ]
  },
  {
   "cell_type": "code",
   "execution_count": 9,
   "metadata": {},
   "outputs": [],
   "source": [
    "def save_data(students, filename):\n",
    "    with open(filename, 'w') as f:\n",
    "        for student in students:\n",
    "            f.write(f\"{student['id']},{student['name']},{','.join(str(g) for g in student['test_grades'])}\\n\")\n",
    "    print(f\"Data saved to {filename}\")\n",
    "    \n",
    "# Option 8 implementation\n",
    "def option8(students, filename):\n",
    "    save_data(students, filename)\n",
    "    print(\"Exiting the program...\")"
   ]
  },
  {
   "cell_type": "code",
   "execution_count": 10,
   "metadata": {},
   "outputs": [
    {
     "name": "stdout",
     "output_type": "stream",
     "text": [
      "1. Display Grade Info for all students\n",
      "2. Display Grade Info for a particular student\n",
      "3. Display tests average for all students\n",
      "4. Modify a particular test grade for a particular student\n",
      "5. Add test grades for a particular test for all students\n",
      "6. Add a new Student\n",
      "7. Delete a student\n",
      "8. Save and Exit\n",
      "Data saved to grades_out.txt\n",
      "Exiting the program...\n"
     ]
    },
    {
     "ename": "",
     "evalue": "",
     "output_type": "error",
     "traceback": [
      "\u001b[1;31mThe Kernel crashed while executing code in the the current cell or a previous cell. Please review the code in the cell(s) to identify a possible cause of the failure. Click <a href='https://aka.ms/vscodeJupyterKernelCrash'>here</a> for more info. View Jupyter <a href='command:jupyter.viewOutput'>log</a> for further details."
     ]
    }
   ],
   "source": [
    "\n",
    "\n",
    "# read data from file\n",
    "filename = \"grades_out.txt\"\n",
    "students = read_data()\n",
    "\n",
    "# main program loop\n",
    "while True:\n",
    "    # display menu options\n",
    "    print(\"1. Display Grade Info for all students\")\n",
    "    print(\"2. Display Grade Info for a particular student\")\n",
    "    print(\"3. Display tests average for all students\")\n",
    "    print(\"4. Modify a particular test grade for a particular student\")\n",
    "    print(\"5. Add test grades for a particular test for all students\")\n",
    "    print(\"6. Add a new Student\")\n",
    "    print(\"7. Delete a student\")\n",
    "    print(\"8. Save and Exit\")\n",
    "    \n",
    "    # get user choice\n",
    "    try:\n",
    "        choice = int(input(\"\\nPlease select your choice: \"))\n",
    "    except ValueError:\n",
    "        print(\"\\nInvalid choice. Please enter a number from 1-8.\\n\")\n",
    "        continue\n",
    "    \n",
    "    # call corresponding function based on user choice\n",
    "    if choice == 1:\n",
    "        display_all(students)\n",
    "    elif choice == 2:\n",
    "        display_student(students)\n",
    "    elif choice == 3:\n",
    "        display_averages(students)\n",
    "    elif choice == 4:\n",
    "        modify_grade(students)\n",
    "    elif choice == 5:\n",
    "        add_test_grades(students)\n",
    "    elif choice == 6:\n",
    "        students = add_student(students)\n",
    "    elif choice == 7:\n",
    "        delete_student(students)\n",
    "    elif choice == 8:\n",
    "        # save data to file and exit\n",
    "        option8(students,filename)\n",
    "        break\n",
    "    else:\n",
    "        print(\"\\nInvalid choice. Please enter a number from 1-8.\\n\")\n"
   ]
  }
 ],
 "metadata": {
  "kernelspec": {
   "display_name": "base",
   "language": "python",
   "name": "python3"
  },
  "language_info": {
   "codemirror_mode": {
    "name": "ipython",
    "version": 3
   },
   "file_extension": ".py",
   "mimetype": "text/x-python",
   "name": "python",
   "nbconvert_exporter": "python",
   "pygments_lexer": "ipython3",
   "version": "3.9.7"
  },
  "orig_nbformat": 4
 },
 "nbformat": 4,
 "nbformat_minor": 2
}
