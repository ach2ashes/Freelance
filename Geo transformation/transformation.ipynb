{
 "cells": [
  {
   "cell_type": "code",
   "execution_count": 2,
   "metadata": {},
   "outputs": [
    {
     "name": "stdout",
     "output_type": "stream",
     "text": [
      "[[ 1.11312632e+05 -1.08699624e+03 -1.75518189e+00]\n",
      " [ 6.38157793e+02  6.50473610e+04 -2.42858052e+00]\n",
      " [-7.15469388e-03 -1.64863275e-02  9.97109806e-01]\n",
      " [-3.13767856e+04  2.97370305e+06  7.70129652e+01]]\n"
     ]
    }
   ],
   "source": [
    "import numpy as np\n",
    "\n",
    "# Define the control points\n",
    "control_points_wgs84 = np.array([[54.334902231, 9.690083758, 55.714807333],\n",
    "                                [54.334965665, 9.686003336, 56.243414101],\n",
    "                                [54.338624714, 9.684074937, 54.126570882],\n",
    "                                [54.335072284, 9.696186240, 56.616201350],\n",
    "                                [54.337859957, 9.697067333, 58.663761530],\n",
    "                                [54.338206339, 9.694278547, 57.763711316]])\n",
    "\n",
    "control_points_cartesian = np.array([[6022967.58100, 3544954.66400, 13.67700],\n",
    "                                     [6022972.05400, 3544689.17800, 14.19800],\n",
    "                                     [6023378.13700, 3544559.79500, 12.09100],\n",
    "                                     [6022990.42000, 3545351.42900, 14.54200],\n",
    "                                     [6023301.27500, 3545405.66800, 16.59400],\n",
    "                                     [6023338.02800, 3545223.91000, 15.68400]])\n",
    "\n",
    "# Define a function to calculate the transformation matrix\n",
    "def calculate_transformation_matrix(control_points_wgs84, control_points_cartesian):\n",
    "    # Add a column of 1s to the control points in WGS84 coordinates\n",
    "    ones_column = np.ones((len(control_points_wgs84), 1))\n",
    "    control_points_wgs84_ones = np.hstack((control_points_wgs84, ones_column))\n",
    "\n",
    "    # Calculate the transformation matrix using least squares\n",
    "    transformation_matrix, residuals, rank, s = np.linalg.lstsq(control_points_wgs84_ones, control_points_cartesian, rcond=None)\n",
    "\n",
    "    return transformation_matrix\n",
    "\n",
    "# Calculate the transformation matrix\n",
    "transformation_matrix = calculate_transformation_matrix(control_points_wgs84, control_points_cartesian)\n",
    "\n",
    "# Print the transformation matrix\n",
    "print(transformation_matrix)\n",
    "\n",
    "\n"
   ]
  },
  {
   "cell_type": "code",
   "execution_count": 3,
   "metadata": {},
   "outputs": [],
   "source": [
    "# Define a point in WGS84 coordinates\n",
    "def transform(wgs84_point):\n",
    "    point_wgs84 = wgs84_point\n",
    "\n",
    "    # Add a 1 to the end of the point\n",
    "    point_wgs84_1 = np.hstack((point_wgs84, 1))\n",
    "    point_wgs84_1 = point_wgs84_1\n",
    "\n",
    "    # Multiply the point by the transformation matrix to get the point in cartesian coordinates\n",
    "    point_cartesian = np.dot(point_wgs84_1, transformation_matrix)\n",
    "\n",
    "     # Round each coordinate to 3 decimal points\n",
    "    point_cartesian_rounded = [round(x, 3) for x in point_cartesian]\n",
    "\n",
    "    # Print the point in cartesian coordinates with 3 decimal points\n",
    "    print(point_cartesian_rounded)\n"
   ]
  },
  {
   "cell_type": "code",
   "execution_count": 4,
   "metadata": {},
   "outputs": [
    {
     "name": "stdout",
     "output_type": "stream",
     "text": [
      "[5929702.258, 3561222.699, 7.694]\n"
     ]
    }
   ],
   "source": [
    "transform([53.495680, 9.926153, 48.823])"
   ]
  }
 ],
 "metadata": {
  "kernelspec": {
   "display_name": "base",
   "language": "python",
   "name": "python3"
  },
  "language_info": {
   "codemirror_mode": {
    "name": "ipython",
    "version": 3
   },
   "file_extension": ".py",
   "mimetype": "text/x-python",
   "name": "python",
   "nbconvert_exporter": "python",
   "pygments_lexer": "ipython3",
   "version": "3.9.7"
  },
  "orig_nbformat": 4
 },
 "nbformat": 4,
 "nbformat_minor": 2
}
